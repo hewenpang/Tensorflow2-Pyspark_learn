{
 "cells": [
  {
   "cell_type": "code",
   "execution_count": 1,
   "metadata": {},
   "outputs": [
    {
     "name": "stdout",
     "output_type": "stream",
     "text": [
      "Init Plugin\n",
      "Init Graph Optimizer\n",
      "Init Kernel\n"
     ]
    }
   ],
   "source": [
    "import tensorflow as tf\n",
    "from tensorflow import tensordot, expand_dims\n",
    "from tensorflow.keras import layers, Model, initializers, regularizers, activations, constraints, Input\n",
    "\n",
    "from tensorflow.keras.backend import expand_dims, repeat_elements, sum\n",
    "import os"
   ]
  },
  {
   "cell_type": "code",
   "execution_count": 2,
   "metadata": {},
   "outputs": [],
   "source": [
    "class MMoE(tf.keras.Model):\n",
    "    '''\n",
    "    @param units MMoE隐藏层单元数\n",
    "    @param num_experts MMoE专家数\n",
    "    @param num_tasks 下游任务数\n",
    "    @param use_expert_bias 是否用expert的bias\n",
    "    @param use_gate_bias 是否用用gate的bias\n",
    "    @param expert_activation expert的激活函数\n",
    "    @param gate_activation gated的激活函数\n",
    "    @param expert_bias_initializer expert bias的初始化函数\n",
    "    @param gate_bias_initializer gate bias的初始化函数\n",
    "    @param expert_bias_regularizer expert bias的正则化方式\n",
    "    @param gate_bias_regularizer gate bias的正则化方式\n",
    "    @param expert_bias_constraint expert bias的约束\n",
    "    @param gate_bias_constraint gate bias的约束\n",
    "    @param expert_kernel_initializer expert权重初始化\n",
    "    @param gate_kernel_initializer gate权重初始化\n",
    "    @param expert_kernel_regularizer expert权重正则化\n",
    "    @param gate_kernel_regularizer gate权重正则化\n",
    "    @param expert_kernel_constraint expert权重约束\n",
    "    @param gate_kernel_constraint gate权重约束\n",
    "    @param activity_regularizery activate正则化函数\n",
    "    @param kwargs Layer类附加参数\n",
    "    '''\n",
    "    def __init__(self, units, num_experts, num_tasks, \n",
    "                 use_expert_bias=True,use_gate_bias=True,expert_activation='relu', gate_activation='softmax',\n",
    "                 expert_bias_initializer='zeros',gate_bias_initializer='zeros',expert_bias_regularizer=None, \n",
    "                 gate_bias_regularizer=None, expert_bias_constraint=None,gate_bias_constraint=None,\n",
    "                 expert_kernel_initializer='VarianceScaling', gate_kernel_initializer='VarianceScaling',\n",
    "                 expert_kernel_regularizer=None,gate_kernel_regularizer=None,expert_kernel_constraint=None,\n",
    "                 gate_kernel_constraint=None,activity_regularizer=None, **kwargs):\n",
    "        super(MMoE, self).__init__(**kwargs)\n",
    "        \n",
    "        self.units = units\n",
    "        self.num_experts = num_experts\n",
    "        self.num_tasks = num_tasks\n",
    "\n",
    "        # Weight parameter，初始化权重\n",
    "        self.expert_kernels = None\n",
    "        self.gate_kernels = None\n",
    "        self.expert_kernel_initializer = initializers.get(expert_kernel_initializer)\n",
    "        self.gate_kernel_initializer = initializers.get(gate_kernel_initializer)\n",
    "        self.expert_kernel_regularizer = regularizers.get(expert_kernel_regularizer)\n",
    "        self.gate_kernel_regularizer = regularizers.get(gate_kernel_regularizer)\n",
    "        self.expert_kernel_constraint = constraints.get(expert_kernel_constraint)\n",
    "        self.gate_kernel_constraint = constraints.get(gate_kernel_constraint)\n",
    "\n",
    "        # Activation parameter\n",
    "        #self.expert_activation = activations.get(expert_activation)\n",
    "        self.expert_activation = expert_activation\n",
    "        self.gate_activation = gate_activation\n",
    "\n",
    "        # Bias parameter，初始化偏置\n",
    "        self.expert_bias = None\n",
    "        self.gate_bias = None\n",
    "        self.use_expert_bias = use_expert_bias\n",
    "        self.use_gate_bias = use_gate_bias\n",
    "        self.expert_bias_initializer = initializers.get(expert_bias_initializer)\n",
    "        self.gate_bias_initializer = initializers.get(gate_bias_initializer)\n",
    "        self.expert_bias_regularizer = regularizers.get(expert_bias_regularizer)\n",
    "        self.gate_bias_regularizer = regularizers.get(gate_bias_regularizer)\n",
    "        self.expert_bias_constraint = constraints.get(expert_bias_constraint)\n",
    "        self.gate_bias_constraint = constraints.get(gate_bias_constraint)\n",
    "\n",
    "        # Activity parameter\n",
    "        self.activity_regularizer = regularizers.get(activity_regularizer)\n",
    "        \n",
    "        self.expert_layers = []\n",
    "        self.gate_layers = []\n",
    "        \n",
    "        for i in range(self.num_experts):\n",
    "            self.expert_layers.append(layers.Dense(self.units, activation=self.expert_activation,\n",
    "                                                   use_bias=self.use_expert_bias,\n",
    "                                                   kernel_initializer=self.expert_kernel_initializer,\n",
    "                                                   bias_initializer=self.expert_bias_initializer,\n",
    "                                                   kernel_regularizer=self.expert_kernel_regularizer,\n",
    "                                                   bias_regularizer=self.expert_bias_regularizer,\n",
    "                                                   activity_regularizer=None,\n",
    "                                                   kernel_constraint=self.expert_kernel_constraint,\n",
    "                                                   bias_constraint=self.expert_bias_constraint))\n",
    "        for i in range(self.num_tasks):##两个任务输出\n",
    "            self.gate_layers.append(layers.Dense(self.num_experts, activation=self.gate_activation,\n",
    "                                                 use_bias=self.use_gate_bias,\n",
    "                                                 kernel_initializer=self.gate_kernel_initializer,\n",
    "                                                 bias_initializer=self.gate_bias_initializer,\n",
    "                                                 kernel_regularizer=self.gate_kernel_regularizer,\n",
    "                                                 bias_regularizer=self.gate_bias_regularizer, activity_regularizer=None,\n",
    "                                                 kernel_constraint=self.gate_kernel_constraint,\n",
    "                                                 bias_constraint=self.gate_bias_constraint))\n",
    "        self.Dropout = layers.Dropout(0.5)\n",
    "    def call(self, inputs):\n",
    "        expert_outputs, gate_outputs, final_outputs = [], [], []\n",
    "        for expert_layer in self.expert_layers:\n",
    "            expert_output = expand_dims(expert_layer(inputs), axis=2)\n",
    "            #print(expert_output.shape)\n",
    "            expert_outputs.append(expert_output)\n",
    "        expert_outputs = tf.concat(expert_outputs,2)\n",
    "        #print(expert_outputs.shape)\n",
    "        \n",
    "        for gate_layer in self.gate_layers:\n",
    "            gate_outputs.append(self.Dropout(gate_layer(inputs)))\n",
    "            \n",
    "        for gate_output in gate_outputs:\n",
    "            #print('Gate Ouput')\n",
    "            #print(gate_output.shape)\n",
    "            expanded_gate_output = expand_dims(gate_output, axis=1)##左右两边的任务输出\n",
    "            #print(expanded_gate_output.shape)\n",
    "            weighted_expert_output = expert_outputs * repeat_elements(expanded_gate_output, self.units, axis=1)##专家网络输出与\n",
    "                                                                                                            #task输出权重加权平均\n",
    "            #print(weighted_expert_output.shape)\n",
    "            final_outputs.append(sum(weighted_expert_output, axis=2))\n",
    "        return final_outputs\n",
    "\n"
   ]
  },
  {
   "cell_type": "code",
   "execution_count": 3,
   "metadata": {},
   "outputs": [
    {
     "name": "stdout",
     "output_type": "stream",
     "text": [
      "Metal device set to: Apple M1\n",
      "\n",
      "systemMemory: 8.00 GB\n",
      "maxCacheSize: 2.67 GB\n",
      "\n"
     ]
    },
    {
     "name": "stderr",
     "output_type": "stream",
     "text": [
      "2024-01-07 13:40:35.487641: I tensorflow/core/common_runtime/pluggable_device/pluggable_device_factory.cc:305] Could not identify NUMA node of platform GPU ID 0, defaulting to 0. Your kernel may not have been built with NUMA support.\n",
      "2024-01-07 13:40:35.488268: I tensorflow/core/common_runtime/pluggable_device/pluggable_device_factory.cc:271] Created TensorFlow device (/job:localhost/replica:0/task:0/device:GPU:0 with 0 MB memory) -> physical PluggableDevice (device: 0, name: METAL, pci bus id: <undefined>)\n"
     ]
    }
   ],
   "source": [
    "input_layers = layers.Input(shape=(499,))\n",
    "mmoe_layer = MMoE(units=4, num_experts=8, num_tasks=2)(input_layers)"
   ]
  },
  {
   "cell_type": "code",
   "execution_count": 4,
   "metadata": {},
   "outputs": [],
   "source": [
    "output_layers = []\n",
    "for index, task_layer in enumerate(mmoe_layer):\n",
    "    tower_layer = layers.Dense(units=8, activation='relu', kernel_initializer=tf.keras.initializers.VarianceScaling())(task_layer)\n",
    "    output_layer = layers.Dense(units=2, name=str(index), activation='softmax', kernel_initializer=tf.keras.initializers.VarianceScaling())(tower_layer)\n",
    "    output_layers.append(output_layer)"
   ]
  },
  {
   "cell_type": "code",
   "execution_count": 5,
   "metadata": {},
   "outputs": [],
   "source": [
    "model = tf.keras.Model(inputs=[input_layers], outputs=output_layers)"
   ]
  },
  {
   "cell_type": "code",
   "execution_count": 6,
   "metadata": {},
   "outputs": [
    {
     "data": {
      "image/png": "[encoded data removed]",
      "text/plain": [
       "<IPython.core.display.Image object>"
      ]
     },
     "execution_count": 6,
     "metadata": {},
     "output_type": "execute_result"
    }
   ],
   "source": [
    "tf.keras.utils.plot_model(model, show_shapes=True, rankdir=\"LR\")"
   ]
  },
  {
   "cell_type": "code",
   "execution_count": 6,
   "metadata": {},
   "outputs": [
    {
     "name": "stdout",
     "output_type": "stream",
     "text": [
      "Model: \"model\"\n",
      "__________________________________________________________________________________________________\n",
      "Layer (type)                    Output Shape         Param #     Connected to                     \n",
      "==================================================================================================\n",
      "input_1 (InputLayer)            [(None, 499)]        0                                            \n",
      "__________________________________________________________________________________________________\n",
      "m_mo_e (MMoE)                   [(None, 4), (None, 4 24000       input_1[0][0]                    \n",
      "__________________________________________________________________________________________________\n",
      "dense_10 (Dense)                (None, 8)            40          m_mo_e[0][0]                     \n",
      "__________________________________________________________________________________________________\n",
      "dense_11 (Dense)                (None, 8)            40          m_mo_e[0][1]                     \n",
      "__________________________________________________________________________________________________\n",
      "0 (Dense)                       (None, 2)            18          dense_10[0][0]                   \n",
      "__________________________________________________________________________________________________\n",
      "1 (Dense)                       (None, 2)            18          dense_11[0][0]                   \n",
      "==================================================================================================\n",
      "Total params: 24,116\n",
      "Trainable params: 24,116\n",
      "Non-trainable params: 0\n",
      "__________________________________________________________________________________________________\n"
     ]
    }
   ],
   "source": [
    "model.summary()"
   ]
  },
  {
   "cell_type": "code",
   "execution_count": 7,
   "metadata": {},
   "outputs": [],
   "source": [
    "import numpy as np\n",
    "'''\n",
    "    将csv数据每一行转换为特征值和标签值\n",
    "    @param line line\n",
    "    @param n_feature 特征纬度\n",
    "    @return x 特征\n",
    "    @return y 标签\n",
    "'''\n",
    "def parse_csv_line(line, n_feature=503):\n",
    "    defs = [tf.constant(np.nan)] * n_feature\n",
    "    parsed_field = tf.io.decode_csv(line, record_defaults=defs)\n",
    "    x = tf.stack(parsed_field[0:-4])\n",
    "    y_income = tf.stack(parsed_field[-4:-2])\n",
    "    y_marital = tf.stack(parsed_field[-2:])\n",
    "    return x, (y_income, y_marital)"
   ]
  },
  {
   "cell_type": "code",
   "execution_count": 10,
   "metadata": {},
   "outputs": [],
   "source": [
    "'''\n",
    "    将csv文件列表处理为TFDataSet\n",
    "    @param filenames csv文件名列表\n",
    "    @param n_reader interleave cycle_length\n",
    "    @param batch_size batch_size\n",
    "    @param n_parse_threads map的并行数\n",
    "    @param shuffle_buffer_size shuffer_size\n",
    "    @return dataset TFDataset\n",
    "'''\n",
    "def csv_reader_dataset(filenames, n_readers=5, batch_size=32, n_parse_threads=5, shuffle_buffer_size=10000):\n",
    "    dataset = tf.data.Dataset.list_files(filenames)\n",
    "    dataset = dataset.interleave(\n",
    "        lambda filename : tf.data.TextLineDataset(filename),\n",
    "        cycle_length=n_readers\n",
    "    )\n",
    "    dataset.shuffle(shuffle_buffer_size)\n",
    "    dataset = dataset.map(parse_csv_line, num_parallel_calls=n_parse_threads)\n",
    "    dataset = dataset.batch(batch_size)\n",
    "    return dataset"
   ]
  },
  {
   "cell_type": "code",
   "execution_count": 11,
   "metadata": {},
   "outputs": [],
   "source": [
    "metrics = [\n",
    "            tf.keras.metrics.TruePositives(name='tp'),\n",
    "            tf.keras.metrics.FalsePositives(name='fp'),\n",
    "            tf.keras.metrics.TrueNegatives(name='tn'),\n",
    "            tf.keras.metrics.FalseNegatives(name='fn'),\n",
    "            tf.keras.metrics.BinaryAccuracy(name='accuracy'),\n",
    "            tf.keras.metrics.Precision(name='precision'),\n",
    "            tf.keras.metrics.Recall(name='recall'),\n",
    "            tf.keras.metrics.AUC(name='auc'),\n",
    "            tf.keras.metrics.AUC(name='prauc',curve='PR')\n",
    "        ]\n",
    "model.compile(\n",
    "    loss={'income':'binary_crossentropy','marital':'binary_crossentropy'},\n",
    "    optimizer=tf.keras.optimizers.Adam(),\n",
    "    metrics=metrics,\n",
    "    experimental_run_tf_function=False\n",
    ")"
   ]
  },
  {
   "cell_type": "code",
   "execution_count": 12,
   "metadata": {},
   "outputs": [
    {
     "name": "stdout",
     "output_type": "stream",
     "text": [
      "Model: \"model\"\n",
      "__________________________________________________________________________________________________\n",
      "Layer (type)                    Output Shape         Param #     Connected to                     \n",
      "==================================================================================================\n",
      "input_1 (InputLayer)            [(None, 499)]        0                                            \n",
      "__________________________________________________________________________________________________\n",
      "m_mo_e (MMoE)                   [(None, 4), (None, 4 24000       input_1[0][0]                    \n",
      "__________________________________________________________________________________________________\n",
      "dense_10 (Dense)                (None, 8)            40          m_mo_e[0][0]                     \n",
      "__________________________________________________________________________________________________\n",
      "dense_11 (Dense)                (None, 8)            40          m_mo_e[0][1]                     \n",
      "__________________________________________________________________________________________________\n",
      "0 (Dense)                       (None, 2)            18          dense_10[0][0]                   \n",
      "__________________________________________________________________________________________________\n",
      "1 (Dense)                       (None, 2)            18          dense_11[0][0]                   \n",
      "==================================================================================================\n",
      "Total params: 24,116\n",
      "Trainable params: 24,116\n",
      "Non-trainable params: 0\n",
      "__________________________________________________________________________________________________\n"
     ]
    }
   ],
   "source": [
    "model.summary()"
   ]
  }
 ],
 "metadata": {
  "kernelspec": {
   "display_name": "Python 3",
   "language": "python",
   "name": "python3"
  },
  "language_info": {
   "codemirror_mode": {
    "name": "ipython",
    "version": 3
   },
   "file_extension": ".py",
   "mimetype": "text/x-python",
   "name": "python",
   "nbconvert_exporter": "python",
   "pygments_lexer": "ipython3",
   "version": "3.9.15"
  }
 },
 "nbformat": 4,
 "nbformat_minor": 2
}
