{
 "cells": [
  {
   "cell_type": "code",
   "execution_count": 1,
   "metadata": {},
   "outputs": [],
   "source": [
    "import pyspark\n",
    "from pyspark import SparkContext\n",
    "from pyspark.sql import SparkSession\n",
    "from pyspark.sql.functions import *"
   ]
  },
  {
   "cell_type": "code",
   "execution_count": 2,
   "metadata": {},
   "outputs": [
    {
     "name": "stdout",
     "output_type": "stream",
     "text": [
      "24/01/10 22:05:50 WARN Utils: Your hostname, hewens-MacBook-Air.local resolves to a loopback address: 127.0.0.1; using 192.168.0.108 instead (on interface en0)\n",
      "24/01/10 22:05:50 WARN Utils: Set SPARK_LOCAL_IP if you need to bind to another address\n"
     ]
    },
    {
     "name": "stderr",
     "output_type": "stream",
     "text": [
      "Setting default log level to \"WARN\".\n",
      "To adjust logging level use sc.setLogLevel(newLevel). For SparkR, use setLogLevel(newLevel).\n"
     ]
    },
    {
     "name": "stdout",
     "output_type": "stream",
     "text": [
      "24/01/10 22:05:51 WARN NativeCodeLoader: Unable to load native-hadoop library for your platform... using builtin-java classes where applicable\n"
     ]
    }
   ],
   "source": [
    "sc = SparkSession.builder.appName('fear-eng').getOrCreate()"
   ]
  },
  {
   "cell_type": "code",
   "execution_count": 3,
   "metadata": {},
   "outputs": [
    {
     "name": "stdout",
     "output_type": "stream",
     "text": [
      "root\n",
      " |-- anime_id: integer (nullable = true)\n",
      " |-- name: string (nullable = true)\n",
      " |-- genre: string (nullable = true)\n",
      " |-- type: string (nullable = true)\n",
      " |-- episodes: string (nullable = true)\n",
      " |-- rating: double (nullable = true)\n",
      " |-- members: integer (nullable = true)\n",
      "\n"
     ]
    }
   ],
   "source": [
    "anime_df = sc.read.csv('/Users/hewenpang/Documents/tf_explore/RecommendSystem_test/archive/anime.csv',header=True,inferSchema=True)\n",
    "anime_df.printSchema()"
   ]
  },
  {
   "cell_type": "code",
   "execution_count": 15,
   "metadata": {},
   "outputs": [
    {
     "name": "stdout",
     "output_type": "stream",
     "text": [
      "+--------+--------------------+\n",
      "|anime_id|               genre|\n",
      "+--------+--------------------+\n",
      "|   32281|Drama, Romance, S...|\n",
      "|    5114|Action, Adventure...|\n",
      "|   28977|Action, Comedy, H...|\n",
      "|    9253|    Sci-Fi, Thriller|\n",
      "|    9969|Action, Comedy, H...|\n",
      "|   32935|Comedy, Drama, Sc...|\n",
      "|   11061|Action, Adventure...|\n",
      "|     820|Drama, Military, ...|\n",
      "|   15335|Action, Comedy, H...|\n",
      "|   15417|Action, Comedy, H...|\n",
      "+--------+--------------------+\n",
      "only showing top 10 rows\n",
      "\n"
     ]
    }
   ],
   "source": [
    "anime_df.select(['anime_id','genre']).show(10)"
   ]
  },
  {
   "cell_type": "markdown",
   "metadata": {},
   "source": [
    "Multi-hot encode"
   ]
  },
  {
   "cell_type": "code",
   "execution_count": 13,
   "metadata": {},
   "outputs": [
    {
     "name": "stdout",
     "output_type": "stream",
     "text": [
      "+--------+------------+\n",
      "|anime_id|  genre_item|\n",
      "+--------+------------+\n",
      "|   32281|       Drama|\n",
      "|   32281|     Romance|\n",
      "|   32281|      School|\n",
      "|   32281|Supernatural|\n",
      "|    5114|      Action|\n",
      "|    5114|   Adventure|\n",
      "|    5114|       Drama|\n",
      "|    5114|     Fantasy|\n",
      "|    5114|       Magic|\n",
      "|    5114|    Military|\n",
      "+--------+------------+\n",
      "only showing top 10 rows\n",
      "\n"
     ]
    }
   ],
   "source": [
    "from pyspark.ml.feature import StringIndexer\n",
    "\n",
    "genre_df = anime_df.withColumn('genre_item',explode(split(col('genre'),','))).withColumn('genre_item',trim(col('genre_item')))\n",
    "genre_df.select(['anime_id','genre_item']).show(10)"
   ]
  },
  {
   "cell_type": "code",
   "execution_count": 16,
   "metadata": {},
   "outputs": [
    {
     "name": "stdout",
     "output_type": "stream",
     "text": [
      "+--------+------------+-----------+\n",
      "|anime_id|  genre_item|genre_index|\n",
      "+--------+------------+-----------+\n",
      "|   32281|       Drama|          5|\n",
      "|   32281|     Romance|          8|\n",
      "|   32281|      School|          9|\n",
      "|   32281|Supernatural|         12|\n",
      "|    5114|      Action|          1|\n",
      "|    5114|   Adventure|          2|\n",
      "|    5114|       Drama|          5|\n",
      "|    5114|     Fantasy|          3|\n",
      "|    5114|       Magic|         16|\n",
      "|    5114|    Military|         23|\n",
      "+--------+------------+-----------+\n",
      "only showing top 10 rows\n",
      "\n"
     ]
    }
   ],
   "source": [
    "string_indexer = StringIndexer(inputCol='genre_item',outputCol='genre_index')\n",
    "genre_indexed_df  = string_indexer.fit(genre_df).transform(genre_df).withColumn('genre_index',col('genre_index').cast('int'))\n",
    "genre_indexed_df[['anime_id','genre_item','genre_index']].show(10)"
   ]
  },
  {
   "cell_type": "code",
   "execution_count": 17,
   "metadata": {},
   "outputs": [
    {
     "name": "stdout",
     "output_type": "stream",
     "text": [
      "+--------+--------------------+\n",
      "|anime_id|       genre_indexes|\n",
      "+--------+--------------------+\n",
      "|       1| [1, 2, 0, 5, 4, 25]|\n",
      "|       5|   [1, 5, 21, 4, 25]|\n",
      "|       6|           [1, 0, 4]|\n",
      "|       7|[1, 5, 16, 21, 32...|\n",
      "|       8|       [2, 3, 6, 12]|\n",
      "|      15|       [1, 0, 6, 20]|\n",
      "|      16|       [0, 5, 40, 8]|\n",
      "|      17|      [0, 6, 10, 20]|\n",
      "|      18|  [1, 37, 5, 19, 20]|\n",
      "|      19|[5, 26, 21, 32, 3...|\n",
      "+--------+--------------------+\n",
      "only showing top 10 rows\n",
      "\n"
     ]
    }
   ],
   "source": [
    "pre_multigot_df = genre_indexed_df.groupBy('anime_id').agg(collect_list('genre_index').alias('genre_indexes'))\n",
    "pre_multigot_df.show(10)"
   ]
  },
  {
   "cell_type": "code",
   "execution_count": 18,
   "metadata": {},
   "outputs": [
    {
     "data": {
      "text/plain": [
       "42"
      ]
     },
     "execution_count": 18,
     "metadata": {},
     "output_type": "execute_result"
    }
   ],
   "source": [
    "max_genre_index = genre_indexed_df.agg(max(col('genre_index'))).head()['max(genre_index)']\n",
    "max_genre_index"
   ]
  },
  {
   "cell_type": "code",
   "execution_count": 20,
   "metadata": {},
   "outputs": [],
   "source": [
    "import numpy as np \n",
    "\n",
    "@udf(returnType='array<int>')\n",
    "def multihot_list(l,max_index):\n",
    "    fill = np.zeros(max_index+1,dtype=np.int32)\n",
    "    for i in l:\n",
    "        fill[i] = 1\n",
    "    return fill.tolist()"
   ]
  },
  {
   "cell_type": "code",
   "execution_count": 22,
   "metadata": {},
   "outputs": [
    {
     "name": "stdout",
     "output_type": "stream",
     "text": [
      "+--------+--------------------+--------------------+\n",
      "|anime_id|       genre_indexes|      genre_multihot|\n",
      "+--------+--------------------+--------------------+\n",
      "|       1| [1, 2, 0, 5, 4, 25]|[1, 1, 1, 0, 1, 1...|\n",
      "|       5|   [1, 5, 21, 4, 25]|[0, 1, 0, 0, 1, 1...|\n",
      "|       6|           [1, 0, 4]|[1, 1, 0, 0, 1, 0...|\n",
      "|       7|[1, 5, 16, 21, 32...|[0, 1, 0, 0, 0, 1...|\n",
      "|       8|       [2, 3, 6, 12]|[0, 0, 1, 1, 0, 0...|\n",
      "|      15|       [1, 0, 6, 20]|[1, 1, 0, 0, 0, 0...|\n",
      "|      16|       [0, 5, 40, 8]|[1, 0, 0, 0, 0, 1...|\n",
      "|      17|      [0, 6, 10, 20]|[1, 0, 0, 0, 0, 0...|\n",
      "|      18|  [1, 37, 5, 19, 20]|[0, 1, 0, 0, 0, 1...|\n",
      "|      19|[5, 26, 21, 32, 3...|[0, 0, 0, 0, 0, 1...|\n",
      "+--------+--------------------+--------------------+\n",
      "only showing top 10 rows\n",
      "\n"
     ]
    }
   ],
   "source": [
    "multihot_df = pre_multigot_df.withColumn('genre_multihot',multihot_list(col('genre_indexes'),lit(max_genre_index)))\n",
    "multihot_df.show(10)"
   ]
  },
  {
   "cell_type": "code",
   "execution_count": null,
   "metadata": {},
   "outputs": [],
   "source": []
  },
  {
   "cell_type": "code",
   "execution_count": null,
   "metadata": {},
   "outputs": [],
   "source": []
  }
 ],
 "metadata": {
  "kernelspec": {
   "display_name": "base",
   "language": "python",
   "name": "python3"
  },
  "language_info": {
   "codemirror_mode": {
    "name": "ipython",
    "version": 3
   },
   "file_extension": ".py",
   "mimetype": "text/x-python",
   "name": "python",
   "nbconvert_exporter": "python",
   "pygments_lexer": "ipython3",
   "version": "3.9.12"
  }
 },
 "nbformat": 4,
 "nbformat_minor": 2
}
